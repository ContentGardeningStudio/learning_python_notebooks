{
 "cells": [
  {
   "cell_type": "markdown",
   "metadata": {},
   "source": [
    "# Interacting with REST APIs using the Requests library"
   ]
  },
  {
   "cell_type": "markdown",
   "metadata": {},
   "source": [
    "In this quick interactive presentation, we will use the [Requests](https://requests.readthedocs.io/en/master/)   library to send HTTP requests (GET, POST, PUT, etc) to a few useful APIs.\n",
    "\n",
    "As a requirement, you need to install the Requests package."
   ]
  },
  {
   "cell_type": "code",
   "execution_count": null,
   "metadata": {},
   "outputs": [],
   "source": [
    "!python -m pip install requests"
   ]
  },
  {
   "cell_type": "markdown",
   "metadata": {},
   "source": [
    "## Example1: Getting events data from the Github API"
   ]
  },
  {
   "cell_type": "markdown",
   "metadata": {},
   "source": [
    "First, you have to import the module."
   ]
  },
  {
   "cell_type": "code",
   "execution_count": null,
   "metadata": {},
   "outputs": [],
   "source": [
    "import requests"
   ]
  },
  {
   "cell_type": "markdown",
   "metadata": {},
   "source": [
    "The `https://api.github.com/events` endpoint supports the HTTP GET calls, so we can use the `requests.get()` function.\n",
    "This would return a `Response` object, which you can manipulate. For example, you can check the status code returned using its `status_code` attribute."
   ]
  },
  {
   "cell_type": "code",
   "execution_count": null,
   "metadata": {},
   "outputs": [],
   "source": [
    "resp = requests.get('https://api.github.com/events')\n",
    "print(resp.status_code)"
   ]
  },
  {
   "cell_type": "markdown",
   "metadata": {},
   "source": [
    "Next, let's complete the task of getting some data. You can use the `.json()` method on the `Response` object to get the resulting JSON data structure, after using an `if` statement to first check that the HTTP request was successful (`200` code returned). If all goes well, you should get your data!"
   ]
  },
  {
   "cell_type": "code",
   "execution_count": null,
   "metadata": {},
   "outputs": [],
   "source": [
    "if resp.status_code == 200:\n",
    "    result = resp.json()\n",
    "    print(result)\n",
    "else:\n",
    "    print(f\"Error. HTTP code returned: {resp.status_code}\")"
   ]
  },
  {
   "cell_type": "markdown",
   "metadata": {},
   "source": [
    "## Example2: Getting data from the Github Jobs API"
   ]
  },
  {
   "cell_type": "markdown",
   "metadata": {},
   "source": [
    "You can find the documentation here: https://jobs.github.com/api."
   ]
  },
  {
   "cell_type": "markdown",
   "metadata": {},
   "source": [
    "To get the JSON representation of jobs, we use `/positions.json` and pass the parameters using a query string. For example, let's get the full-time job positions in New York and related to \"Python\"."
   ]
  },
  {
   "cell_type": "code",
   "execution_count": null,
   "metadata": {},
   "outputs": [],
   "source": [
    "import requests\n",
    "\n",
    "resp = requests.get('https://jobs.github.com/positions.json?description=devops&full_time=true&location=new-york')\n",
    "if resp.status_code == 200:\n",
    "    result = resp.json()\n",
    "    print(result)\n",
    "else:\n",
    "    print(f\"Error. HTTP code returned: {resp.status_code}\")"
   ]
  },
  {
   "cell_type": "markdown",
   "metadata": {},
   "source": [
    "## Example3: Searching addresses using the french government address API"
   ]
  },
  {
   "cell_type": "markdown",
   "metadata": {},
   "source": [
    "You can find the documentation here: https://geo.api.gouv.fr/adresse."
   ]
  },
  {
   "cell_type": "code",
   "execution_count": null,
   "metadata": {},
   "outputs": [],
   "source": [
    "import requests\n",
    "\n",
    "resp = requests.get('https://api-adresse.data.gouv.fr/search/?q=bd+leclerc&limit=10')\n",
    "if resp.status_code == 200:\n",
    "    result = resp.json()\n",
    "    print(result)\n",
    "else:\n",
    "    print(f\"Error. HTTP code returned: {resp.status_code}\")"
   ]
  },
  {
   "cell_type": "code",
   "execution_count": null,
   "metadata": {},
   "outputs": [],
   "source": []
  }
 ],
 "metadata": {
  "kernelspec": {
   "display_name": "Python 3",
   "language": "python",
   "name": "python3"
  },
  "language_info": {
   "codemirror_mode": {
    "name": "ipython",
    "version": 3
   },
   "file_extension": ".py",
   "mimetype": "text/x-python",
   "name": "python",
   "nbconvert_exporter": "python",
   "pygments_lexer": "ipython3",
   "version": "3.7.3"
  }
 },
 "nbformat": 4,
 "nbformat_minor": 4
}
